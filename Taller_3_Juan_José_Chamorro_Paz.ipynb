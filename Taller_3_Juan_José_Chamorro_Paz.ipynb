{
  "nbformat": 4,
  "nbformat_minor": 0,
  "metadata": {
    "colab": {
      "name": "Taller 3 Juan José Chamorro Paz",
      "provenance": [],
      "authorship_tag": "ABX9TyOyWq/c+w7C7ZC4cjLGUham",
      "include_colab_link": true
    },
    "kernelspec": {
      "name": "python3",
      "display_name": "Python 3"
    }
  },
  "cells": [
    {
      "cell_type": "markdown",
      "metadata": {
        "id": "view-in-github",
        "colab_type": "text"
      },
      "source": [
        "<a href=\"https://colab.research.google.com/github/Juanchp00/se-ales-y-sistemas/blob/master/Taller_3_Juan_Jos%C3%A9_Chamorro_Paz.ipynb\" target=\"_parent\"><img src=\"https://colab.research.google.com/assets/colab-badge.svg\" alt=\"Open In Colab\"/></a>"
      ]
    },
    {
      "cell_type": "markdown",
      "metadata": {
        "id": "0taBidIDI-mW",
        "colab_type": "text"
      },
      "source": [
        "##3. Transformada de Laplace\n",
        "\n",
        "Para resolver los siguientes ejercicios puede apoyarse de los cua-\n",
        "dernos del repositorio github del curso, seccion 4: Transformada\n",
        "de Laplace.\n",
        "\n",
        "4. Para las funciones de transferencia encontradas en el punto\n",
        "anterior, encuentre la expresión de la salida en el tiempo, en función de R, L, C, y las condiciones iniciales, para las siguientes entradas:\n",
        "$$i) impulso,$$ \n",
        "$$ii) escalon unitario,$$ \n",
        "$$iv) rampa.$$\n",
        "\n",
        " Compruebe los resultados en simulacion sobre Python  ́\n",
        "(utililzando sympy) y grafique la senal de salida para cada  ̃\n",
        "caso."
      ]
    },
    {
      "cell_type": "code",
      "metadata": {
        "id": "8SZ8-gutJ85K",
        "colab_type": "code",
        "colab": {}
      },
      "source": [
        ""
      ],
      "execution_count": null,
      "outputs": []
    },
    {
      "cell_type": "markdown",
      "metadata": {
        "id": "iuyr067qJ9lj",
        "colab_type": "text"
      },
      "source": [
        "5. Consulte en que consiste un sistema subamortiguado, sobreamortiguado, y de amortiguamiento cr ́ıtico. Genere simulaciones para ejemplificar cada uno de los casos con los sistemas R,L,C serie y paralelo estudiados. Nota: asuma condiciones iniciales cero.\n"
      ]
    },
    {
      "cell_type": "code",
      "metadata": {
        "id": "jEpqm9JQO5wc",
        "colab_type": "code",
        "colab": {}
      },
      "source": [
        ""
      ],
      "execution_count": null,
      "outputs": []
    },
    {
      "cell_type": "markdown",
      "metadata": {
        "id": "7fuRNxMMO6RJ",
        "colab_type": "text"
      },
      "source": [
        "##4. Transformada Z\n",
        "\n",
        "4. Ecualizador de audio. Implemente en python un ecualizador de audio para archivos mp3 utilizando filtros IIR. El usuario podra ingresar la url del archivo y escoger las bandas y ganancias de ecualizacion, visualizar el espectro del audio original y filtrado, y descargar los audios en mp3."
      ]
    },
    {
      "cell_type": "code",
      "metadata": {
        "id": "OIBFBzBYPJ-n",
        "colab_type": "code",
        "colab": {}
      },
      "source": [
        ""
      ],
      "execution_count": null,
      "outputs": []
    }
  ]
}